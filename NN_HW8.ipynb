{
  "nbformat": 4,
  "nbformat_minor": 0,
  "metadata": {
    "colab": {
      "name": "NN-HW8.ipynb",
      "provenance": [],
      "toc_visible": true,
      "authorship_tag": "ABX9TyMERpTkdjdDeu2Pk/IO++tn",
      "include_colab_link": true
    },
    "kernelspec": {
      "name": "python3",
      "display_name": "Python 3"
    },
    "language_info": {
      "name": "python"
    }
  },
  "cells": [
    {
      "cell_type": "markdown",
      "metadata": {
        "id": "view-in-github",
        "colab_type": "text"
      },
      "source": [
        "<a href=\"https://colab.research.google.com/github/AUT-Student/NN-HW8/blob/main/NN_HW8.ipynb\" target=\"_parent\"><img src=\"https://colab.research.google.com/assets/colab-badge.svg\" alt=\"Open In Colab\"/></a>"
      ]
    },
    {
      "cell_type": "markdown",
      "source": [
        "# Source"
      ],
      "metadata": {
        "id": "T-mAQ5z06zUG"
      }
    },
    {
      "cell_type": "markdown",
      "source": [
        "https://www.tensorflow.org/text/tutorials/transformer"
      ],
      "metadata": {
        "id": "QASm-T5H641U"
      }
    },
    {
      "cell_type": "markdown",
      "source": [
        "# Library"
      ],
      "metadata": {
        "id": "aOYz-DDs1Tad"
      }
    },
    {
      "cell_type": "code",
      "execution_count": 3,
      "metadata": {
        "id": "GfhFyrkP1GzY"
      },
      "outputs": [],
      "source": [
        "import pandas as pd\n",
        "import numpy as np\n",
        "\n",
        "import tensorflow as tf\n",
        "import tensorflow.keras as keras\n",
        "import tensorflow_datasets as tfds"
      ]
    },
    {
      "cell_type": "markdown",
      "source": [
        "# Dataset"
      ],
      "metadata": {
        "id": "l2HC-q3w1hGk"
      }
    },
    {
      "cell_type": "code",
      "source": [
        "dataset = tfds.load('ted_hrlr_translate/pt_to_en', with_info=False, as_supervised=True)"
      ],
      "metadata": {
        "id": "it2JzZ641fer"
      },
      "execution_count": 14,
      "outputs": []
    },
    {
      "cell_type": "code",
      "source": [
        "train_dataset = dataset[\"train\"]\n",
        "test_dataset = dataset[\"test\"]\n",
        "valid_dataset = dataset[\"validation\"]"
      ],
      "metadata": {
        "id": "bNVbC_3I3c-t"
      },
      "execution_count": 16,
      "outputs": []
    },
    {
      "cell_type": "code",
      "source": [
        "for i, data in enumerate(train_dataset):\n",
        "  print(f\"i = {i}\")\n",
        "  print(data[0])\n",
        "  print(data[1])\n",
        "  \n",
        "  if i>5: break"
      ],
      "metadata": {
        "colab": {
          "base_uri": "https://localhost:8080/"
        },
        "id": "Dsp5FHID3PxD",
        "outputId": "23edf7b2-bca3-447e-a552-20c2db739dad"
      },
      "execution_count": 23,
      "outputs": [
        {
          "output_type": "stream",
          "name": "stdout",
          "text": [
            "i = 0\n",
            "tf.Tensor(b'e quando melhoramos a procura , tiramos a \\xc3\\xbanica vantagem da impress\\xc3\\xa3o , que \\xc3\\xa9 a serendipidade .', shape=(), dtype=string)\n",
            "tf.Tensor(b'and when you improve searchability , you actually take away the one advantage of print , which is serendipity .', shape=(), dtype=string)\n",
            "i = 1\n",
            "tf.Tensor(b'mas e se estes fatores fossem ativos ?', shape=(), dtype=string)\n",
            "tf.Tensor(b'but what if it were active ?', shape=(), dtype=string)\n",
            "i = 2\n",
            "tf.Tensor(b'mas eles n\\xc3\\xa3o tinham a curiosidade de me testar .', shape=(), dtype=string)\n",
            "tf.Tensor(b\"but they did n't test for curiosity .\", shape=(), dtype=string)\n",
            "i = 3\n",
            "tf.Tensor(b'e esta rebeldia consciente \\xc3\\xa9 a raz\\xc3\\xa3o pela qual eu , como agn\\xc3\\xb3stica , posso ainda ter f\\xc3\\xa9 .', shape=(), dtype=string)\n",
            "tf.Tensor(b'and this conscious defiance is why i , as an agnostic , can still have faith .', shape=(), dtype=string)\n",
            "i = 4\n",
            "tf.Tensor(b\"`` `` '' podem usar tudo sobre a mesa no meu corpo . ''\", shape=(), dtype=string)\n",
            "tf.Tensor(b'you can use everything on the table on me .', shape=(), dtype=string)\n",
            "i = 5\n",
            "tf.Tensor(b\"`` eu escrevo muito acerca do `` '' teatro de seguran\\xc3\\xa7a '' '' , que s\\xc3\\xa3o produtos que fazem as pessoas sentirem-se seguras mas que , na realidade , n\\xc3\\xa3o fazem nada . ''\", shape=(), dtype=string)\n",
            "tf.Tensor(b\"`` i write a lot about `` '' security theater , '' '' which are products that make people feel secure , but do n't actually do anything . ''\", shape=(), dtype=string)\n",
            "i = 6\n",
            "tf.Tensor(b'colocaram-no bem no fundo duma mina de ferro no minnesota , nos \\xc3\\xbaltimos dois dias anunciaram os resultados mais sens\\xc3\\xadveis at\\xc3\\xa9 agora .', shape=(), dtype=string)\n",
            "tf.Tensor(b\"and they 've put it deep down in an iron mine in minnesota , ok , deep under the ground , and in fact , in the last couple of days announced the most sensitive results so far .\", shape=(), dtype=string)\n"
          ]
        }
      ]
    },
    {
      "cell_type": "markdown",
      "source": [
        "# Tokenization"
      ],
      "metadata": {
        "id": "vY6qhzM17gLR"
      }
    },
    {
      "cell_type": "code",
      "source": [
        "model_name = 'ted_hrlr_translate_pt_en_converter'\n",
        "tf.keras.utils.get_file(\n",
        "    f'{model_name}.zip',\n",
        "    f'https://storage.googleapis.com/download.tensorflow.org/models/{model_name}.zip',\n",
        "    extract=True\n",
        ")"
      ],
      "metadata": {
        "id": "0V3HAL9Q3sSv"
      },
      "execution_count": null,
      "outputs": []
    },
    {
      "cell_type": "code",
      "source": [
        ""
      ],
      "metadata": {
        "id": "MVnGQjUt7LoF"
      },
      "execution_count": null,
      "outputs": []
    }
  ]
}