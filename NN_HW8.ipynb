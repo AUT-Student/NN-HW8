{
  "nbformat": 4,
  "nbformat_minor": 0,
  "metadata": {
    "colab": {
      "name": "NN-HW8.ipynb",
      "provenance": [],
      "collapsed_sections": [],
      "include_colab_link": true
    },
    "kernelspec": {
      "name": "python3",
      "display_name": "Python 3"
    },
    "language_info": {
      "name": "python"
    },
    "accelerator": "GPU",
    "gpuClass": "standard"
  },
  "cells": [
    {
      "cell_type": "markdown",
      "metadata": {
        "id": "view-in-github",
        "colab_type": "text"
      },
      "source": [
        "<a href=\"https://colab.research.google.com/github/AUT-Student/NN-HW8/blob/main/NN_HW8.ipynb\" target=\"_parent\"><img src=\"https://colab.research.google.com/assets/colab-badge.svg\" alt=\"Open In Colab\"/></a>"
      ]
    },
    {
      "cell_type": "markdown",
      "source": [
        "# Source"
      ],
      "metadata": {
        "id": "T-mAQ5z06zUG"
      }
    },
    {
      "cell_type": "markdown",
      "source": [
        "https://www.tensorflow.org/text/tutorials/transformer"
      ],
      "metadata": {
        "id": "QASm-T5H641U"
      }
    },
    {
      "cell_type": "markdown",
      "source": [
        "# Library"
      ],
      "metadata": {
        "id": "aOYz-DDs1Tad"
      }
    },
    {
      "cell_type": "code",
      "source": [
        "!pip install tensorflow_text"
      ],
      "metadata": {
        "colab": {
          "base_uri": "https://localhost:8080/"
        },
        "id": "9azbdi0Z-JaB",
        "outputId": "2df3cc79-eae1-4bdf-ee7d-9e04cea98182"
      },
      "execution_count": null,
      "outputs": [
        {
          "output_type": "stream",
          "name": "stdout",
          "text": [
            "Looking in indexes: https://pypi.org/simple, https://us-python.pkg.dev/colab-wheels/public/simple/\n",
            "Requirement already satisfied: tensorflow_text in /usr/local/lib/python3.7/dist-packages (2.9.0)\n",
            "Requirement already satisfied: tensorflow-hub>=0.8.0 in /usr/local/lib/python3.7/dist-packages (from tensorflow_text) (0.12.0)\n",
            "Requirement already satisfied: tensorflow<2.10,>=2.9.0 in /usr/local/lib/python3.7/dist-packages (from tensorflow_text) (2.9.1)\n",
            "Requirement already satisfied: h5py>=2.9.0 in /usr/local/lib/python3.7/dist-packages (from tensorflow<2.10,>=2.9.0->tensorflow_text) (3.1.0)\n",
            "Requirement already satisfied: numpy>=1.20 in /usr/local/lib/python3.7/dist-packages (from tensorflow<2.10,>=2.9.0->tensorflow_text) (1.21.6)\n",
            "Requirement already satisfied: keras<2.10.0,>=2.9.0rc0 in /usr/local/lib/python3.7/dist-packages (from tensorflow<2.10,>=2.9.0->tensorflow_text) (2.9.0)\n",
            "Requirement already satisfied: tensorboard<2.10,>=2.9 in /usr/local/lib/python3.7/dist-packages (from tensorflow<2.10,>=2.9.0->tensorflow_text) (2.9.1)\n",
            "Requirement already satisfied: google-pasta>=0.1.1 in /usr/local/lib/python3.7/dist-packages (from tensorflow<2.10,>=2.9.0->tensorflow_text) (0.2.0)\n",
            "Requirement already satisfied: typing-extensions>=3.6.6 in /usr/local/lib/python3.7/dist-packages (from tensorflow<2.10,>=2.9.0->tensorflow_text) (4.1.1)\n",
            "Requirement already satisfied: tensorflow-estimator<2.10.0,>=2.9.0rc0 in /usr/local/lib/python3.7/dist-packages (from tensorflow<2.10,>=2.9.0->tensorflow_text) (2.9.0)\n",
            "Requirement already satisfied: opt-einsum>=2.3.2 in /usr/local/lib/python3.7/dist-packages (from tensorflow<2.10,>=2.9.0->tensorflow_text) (3.3.0)\n",
            "Requirement already satisfied: absl-py>=1.0.0 in /usr/local/lib/python3.7/dist-packages (from tensorflow<2.10,>=2.9.0->tensorflow_text) (1.1.0)\n",
            "Requirement already satisfied: keras-preprocessing>=1.1.1 in /usr/local/lib/python3.7/dist-packages (from tensorflow<2.10,>=2.9.0->tensorflow_text) (1.1.2)\n",
            "Requirement already satisfied: packaging in /usr/local/lib/python3.7/dist-packages (from tensorflow<2.10,>=2.9.0->tensorflow_text) (21.3)\n",
            "Requirement already satisfied: libclang>=13.0.0 in /usr/local/lib/python3.7/dist-packages (from tensorflow<2.10,>=2.9.0->tensorflow_text) (14.0.1)\n",
            "Requirement already satisfied: flatbuffers<2,>=1.12 in /usr/local/lib/python3.7/dist-packages (from tensorflow<2.10,>=2.9.0->tensorflow_text) (1.12)\n",
            "Requirement already satisfied: grpcio<2.0,>=1.24.3 in /usr/local/lib/python3.7/dist-packages (from tensorflow<2.10,>=2.9.0->tensorflow_text) (1.47.0)\n",
            "Requirement already satisfied: astunparse>=1.6.0 in /usr/local/lib/python3.7/dist-packages (from tensorflow<2.10,>=2.9.0->tensorflow_text) (1.6.3)\n",
            "Requirement already satisfied: setuptools in /usr/local/lib/python3.7/dist-packages (from tensorflow<2.10,>=2.9.0->tensorflow_text) (57.4.0)\n",
            "Requirement already satisfied: tensorflow-io-gcs-filesystem>=0.23.1 in /usr/local/lib/python3.7/dist-packages (from tensorflow<2.10,>=2.9.0->tensorflow_text) (0.26.0)\n",
            "Requirement already satisfied: six>=1.12.0 in /usr/local/lib/python3.7/dist-packages (from tensorflow<2.10,>=2.9.0->tensorflow_text) (1.15.0)\n",
            "Requirement already satisfied: gast<=0.4.0,>=0.2.1 in /usr/local/lib/python3.7/dist-packages (from tensorflow<2.10,>=2.9.0->tensorflow_text) (0.4.0)\n",
            "Requirement already satisfied: termcolor>=1.1.0 in /usr/local/lib/python3.7/dist-packages (from tensorflow<2.10,>=2.9.0->tensorflow_text) (1.1.0)\n",
            "Requirement already satisfied: protobuf<3.20,>=3.9.2 in /usr/local/lib/python3.7/dist-packages (from tensorflow<2.10,>=2.9.0->tensorflow_text) (3.17.3)\n",
            "Requirement already satisfied: wrapt>=1.11.0 in /usr/local/lib/python3.7/dist-packages (from tensorflow<2.10,>=2.9.0->tensorflow_text) (1.14.1)\n",
            "Requirement already satisfied: wheel<1.0,>=0.23.0 in /usr/local/lib/python3.7/dist-packages (from astunparse>=1.6.0->tensorflow<2.10,>=2.9.0->tensorflow_text) (0.37.1)\n",
            "Requirement already satisfied: cached-property in /usr/local/lib/python3.7/dist-packages (from h5py>=2.9.0->tensorflow<2.10,>=2.9.0->tensorflow_text) (1.5.2)\n",
            "Requirement already satisfied: tensorboard-data-server<0.7.0,>=0.6.0 in /usr/local/lib/python3.7/dist-packages (from tensorboard<2.10,>=2.9->tensorflow<2.10,>=2.9.0->tensorflow_text) (0.6.1)\n",
            "Requirement already satisfied: markdown>=2.6.8 in /usr/local/lib/python3.7/dist-packages (from tensorboard<2.10,>=2.9->tensorflow<2.10,>=2.9.0->tensorflow_text) (3.3.7)\n",
            "Requirement already satisfied: tensorboard-plugin-wit>=1.6.0 in /usr/local/lib/python3.7/dist-packages (from tensorboard<2.10,>=2.9->tensorflow<2.10,>=2.9.0->tensorflow_text) (1.8.1)\n",
            "Requirement already satisfied: werkzeug>=1.0.1 in /usr/local/lib/python3.7/dist-packages (from tensorboard<2.10,>=2.9->tensorflow<2.10,>=2.9.0->tensorflow_text) (1.0.1)\n",
            "Requirement already satisfied: google-auth<3,>=1.6.3 in /usr/local/lib/python3.7/dist-packages (from tensorboard<2.10,>=2.9->tensorflow<2.10,>=2.9.0->tensorflow_text) (1.35.0)\n",
            "Requirement already satisfied: requests<3,>=2.21.0 in /usr/local/lib/python3.7/dist-packages (from tensorboard<2.10,>=2.9->tensorflow<2.10,>=2.9.0->tensorflow_text) (2.23.0)\n",
            "Requirement already satisfied: google-auth-oauthlib<0.5,>=0.4.1 in /usr/local/lib/python3.7/dist-packages (from tensorboard<2.10,>=2.9->tensorflow<2.10,>=2.9.0->tensorflow_text) (0.4.6)\n",
            "Requirement already satisfied: pyasn1-modules>=0.2.1 in /usr/local/lib/python3.7/dist-packages (from google-auth<3,>=1.6.3->tensorboard<2.10,>=2.9->tensorflow<2.10,>=2.9.0->tensorflow_text) (0.2.8)\n",
            "Requirement already satisfied: cachetools<5.0,>=2.0.0 in /usr/local/lib/python3.7/dist-packages (from google-auth<3,>=1.6.3->tensorboard<2.10,>=2.9->tensorflow<2.10,>=2.9.0->tensorflow_text) (4.2.4)\n",
            "Requirement already satisfied: rsa<5,>=3.1.4 in /usr/local/lib/python3.7/dist-packages (from google-auth<3,>=1.6.3->tensorboard<2.10,>=2.9->tensorflow<2.10,>=2.9.0->tensorflow_text) (4.8)\n",
            "Requirement already satisfied: requests-oauthlib>=0.7.0 in /usr/local/lib/python3.7/dist-packages (from google-auth-oauthlib<0.5,>=0.4.1->tensorboard<2.10,>=2.9->tensorflow<2.10,>=2.9.0->tensorflow_text) (1.3.1)\n",
            "Requirement already satisfied: importlib-metadata>=4.4 in /usr/local/lib/python3.7/dist-packages (from markdown>=2.6.8->tensorboard<2.10,>=2.9->tensorflow<2.10,>=2.9.0->tensorflow_text) (4.12.0)\n",
            "Requirement already satisfied: zipp>=0.5 in /usr/local/lib/python3.7/dist-packages (from importlib-metadata>=4.4->markdown>=2.6.8->tensorboard<2.10,>=2.9->tensorflow<2.10,>=2.9.0->tensorflow_text) (3.8.0)\n",
            "Requirement already satisfied: pyasn1<0.5.0,>=0.4.6 in /usr/local/lib/python3.7/dist-packages (from pyasn1-modules>=0.2.1->google-auth<3,>=1.6.3->tensorboard<2.10,>=2.9->tensorflow<2.10,>=2.9.0->tensorflow_text) (0.4.8)\n",
            "Requirement already satisfied: idna<3,>=2.5 in /usr/local/lib/python3.7/dist-packages (from requests<3,>=2.21.0->tensorboard<2.10,>=2.9->tensorflow<2.10,>=2.9.0->tensorflow_text) (2.10)\n",
            "Requirement already satisfied: chardet<4,>=3.0.2 in /usr/local/lib/python3.7/dist-packages (from requests<3,>=2.21.0->tensorboard<2.10,>=2.9->tensorflow<2.10,>=2.9.0->tensorflow_text) (3.0.4)\n",
            "Requirement already satisfied: certifi>=2017.4.17 in /usr/local/lib/python3.7/dist-packages (from requests<3,>=2.21.0->tensorboard<2.10,>=2.9->tensorflow<2.10,>=2.9.0->tensorflow_text) (2022.6.15)\n",
            "Requirement already satisfied: urllib3!=1.25.0,!=1.25.1,<1.26,>=1.21.1 in /usr/local/lib/python3.7/dist-packages (from requests<3,>=2.21.0->tensorboard<2.10,>=2.9->tensorflow<2.10,>=2.9.0->tensorflow_text) (1.24.3)\n",
            "Requirement already satisfied: oauthlib>=3.0.0 in /usr/local/lib/python3.7/dist-packages (from requests-oauthlib>=0.7.0->google-auth-oauthlib<0.5,>=0.4.1->tensorboard<2.10,>=2.9->tensorflow<2.10,>=2.9.0->tensorflow_text) (3.2.0)\n",
            "Requirement already satisfied: pyparsing!=3.0.5,>=2.0.2 in /usr/local/lib/python3.7/dist-packages (from packaging->tensorflow<2.10,>=2.9.0->tensorflow_text) (3.0.9)\n"
          ]
        }
      ]
    },
    {
      "cell_type": "code",
      "execution_count": null,
      "metadata": {
        "id": "GfhFyrkP1GzY"
      },
      "outputs": [],
      "source": [
        "import pandas as pd\n",
        "import numpy as np\n",
        "import matplotlib.pyplot as plt\n",
        "import math\n",
        "\n",
        "import tensorflow as tf\n",
        "import tensorflow.keras as keras\n",
        "import tensorflow_datasets as tfds\n",
        "import tensorflow_text\n",
        "\n",
        "from keras.layers import Dense, Input, Layer, Embedding, Dropout\n",
        "from keras.layers import MultiHeadAttention, LayerNormalization\n",
        "from keras.models import Sequential\n",
        "import keras.backend as K"
      ]
    },
    {
      "cell_type": "markdown",
      "source": [
        "# Dataset"
      ],
      "metadata": {
        "id": "l2HC-q3w1hGk"
      }
    },
    {
      "cell_type": "code",
      "source": [
        "dataset = tfds.load('ted_hrlr_translate/pt_to_en', with_info=False, as_supervised=True)"
      ],
      "metadata": {
        "id": "it2JzZ641fer"
      },
      "execution_count": null,
      "outputs": []
    },
    {
      "cell_type": "code",
      "source": [
        "train_dataset = dataset[\"train\"]\n",
        "test_dataset = dataset[\"test\"]\n",
        "valid_dataset = dataset[\"validation\"]"
      ],
      "metadata": {
        "id": "bNVbC_3I3c-t"
      },
      "execution_count": null,
      "outputs": []
    },
    {
      "cell_type": "markdown",
      "source": [
        "# Tokenization"
      ],
      "metadata": {
        "id": "vY6qhzM17gLR"
      }
    },
    {
      "cell_type": "code",
      "source": [
        "tokenizers_model_name = 'ted_hrlr_translate_pt_en_converter'\n",
        "keras.utils.get_file(\n",
        "    f'{tokenizers_model_name}.zip',\n",
        "    f'https://storage.googleapis.com/download.tensorflow.org/models/{tokenizers_model_name}.zip',\n",
        "    cache_dir='.', cache_subdir='', extract=True\n",
        ")"
      ],
      "metadata": {
        "colab": {
          "base_uri": "https://localhost:8080/",
          "height": 35
        },
        "id": "0V3HAL9Q3sSv",
        "outputId": "0b2043ae-4464-4870-cc5d-48c6e4f1281a"
      },
      "execution_count": null,
      "outputs": [
        {
          "output_type": "execute_result",
          "data": {
            "text/plain": [
              "'./ted_hrlr_translate_pt_en_converter.zip'"
            ],
            "application/vnd.google.colaboratory.intrinsic+json": {
              "type": "string"
            }
          },
          "metadata": {},
          "execution_count": 5
        }
      ]
    },
    {
      "cell_type": "code",
      "source": [
        "tokenizers = tf.saved_model.load(tokenizers_model_name)\n",
        "en_tokenizer = tokenizers.en\n",
        "pt_tokenizer = tokenizers.pt"
      ],
      "metadata": {
        "id": "MVnGQjUt7LoF"
      },
      "execution_count": null,
      "outputs": []
    },
    {
      "cell_type": "markdown",
      "source": [
        "# Preprocessing"
      ],
      "metadata": {
        "id": "LCZi2KfOK2Rm"
      }
    },
    {
      "cell_type": "code",
      "source": [
        "en_length_list = np.zeros(0)\n",
        "pt_length_list = np.zeros(0)\n",
        "for pt_data, en_data in train_dataset.batch(1024):\n",
        "  new_en_length_list = en_tokenizer.tokenize(en_data).row_lengths().numpy()\n",
        "  new_pt_length_list = pt_tokenizer.tokenize(pt_data).row_lengths().numpy()\n",
        "\n",
        "  en_length_list = np.concatenate((en_length_list, new_en_length_list))\n",
        "  pt_length_list = np.concatenate((pt_length_list, new_pt_length_list))"
      ],
      "metadata": {
        "id": "V4zVq06IAVH6"
      },
      "execution_count": null,
      "outputs": []
    },
    {
      "cell_type": "code",
      "source": [
        "fig, ax = plt.subplots(1,2)\n",
        "\n",
        "ax[0].hist(en_length_list, bins=100, color=\"red\", label=\"English\")\n",
        "ax[1].hist(pt_length_list, bins=100, color=\"blue\", label=\"Portuguese\")\n",
        "ax[0].legend()\n",
        "ax[1].legend()\n",
        "ax[0].set_title(\"The Length of English Sentences\")\n",
        "ax[1].set_title(\"The Length of Portuguese Sentences\")\n",
        "ax[0].set_xlabel(\"Length\")\n",
        "ax[1].set_xlabel(\"Length\")\n",
        "ax[0].set_ylabel(\"Frequency\")\n",
        "ax[1].set_ylabel(\"Frequency\")\n",
        "\n",
        "fig.set_size_inches(14, 5)\n",
        "plt.show()"
      ],
      "metadata": {
        "colab": {
          "base_uri": "https://localhost:8080/",
          "height": 350
        },
        "id": "VNitjzsXkJ-3",
        "outputId": "a5e09535-70d8-43b0-fd1f-32f3fce50366"
      },
      "execution_count": null,
      "outputs": [
        {
          "output_type": "display_data",
          "data": {
            "text/plain": [
              "<Figure size 1008x360 with 2 Axes>"
            ],
            "image/png": "[encoded data removed]"
          },
          "metadata": {
            "needs_background": "light"
          }
        }
      ]
    },
    {
      "cell_type": "code",
      "source": [
        "MAX_LENGTH = 128"
      ],
      "metadata": {
        "id": "YZy7fmA-ku9b"
      },
      "execution_count": null,
      "outputs": []
    },
    {
      "cell_type": "code",
      "source": [
        "def is_size_good(pt, en):\n",
        "  return tf.shape(pt)[1] < MAX_LENGTH and tf.shape(en)[1] < MAX_LENGTH"
      ],
      "metadata": {
        "id": "cvLNtGH42-3H"
      },
      "execution_count": null,
      "outputs": []
    },
    {
      "cell_type": "code",
      "source": [
        "def tokenize(pt, en):\n",
        "    pt = tokenizers.pt.tokenize(pt)\n",
        "    pt = pt.to_tensor()\n",
        "\n",
        "    en = tokenizers.en.tokenize(en)\n",
        "    en = en.to_tensor()\n",
        "    return pt, en"
      ],
      "metadata": {
        "id": "Q0RMW6z24LGS"
      },
      "execution_count": null,
      "outputs": []
    },
    {
      "cell_type": "code",
      "source": [
        "def create_dataset_batches(dataset, batch_size):\n",
        "  return dataset.batch(batch_size).map(tokenize, -1).filter(is_size_good).prefetch(-1)"
      ],
      "metadata": {
        "id": "yL84cWKhMZMT"
      },
      "execution_count": null,
      "outputs": []
    },
    {
      "cell_type": "code",
      "source": [
        "batch_size = 64\n",
        "\n",
        "train_dataset = create_dataset_batches(train_dataset, batch_size)"
      ],
      "metadata": {
        "id": "0NibEESUMlmn"
      },
      "execution_count": null,
      "outputs": []
    },
    {
      "cell_type": "markdown",
      "source": [
        "# Positional Encoding"
      ],
      "metadata": {
        "id": "NfZYpJ02EG2n"
      }
    },
    {
      "cell_type": "code",
      "source": [
        "def get_angles(position, i, d_model):\n",
        "  angle_rates = 1 / np.power(10000, (2 * (i//2)) / np.float32(d_model))\n",
        "  return position * angle_rates"
      ],
      "metadata": {
        "id": "W4nXlgI9egQf"
      },
      "execution_count": null,
      "outputs": []
    },
    {
      "cell_type": "code",
      "source": [
        "def positional_encoding(position, d_model):\n",
        "  angle_rads = get_angles(np.arange(position)[:, np.newaxis],\n",
        "                          np.arange(d_model)[np.newaxis, :],\n",
        "                          d_model)\n",
        "\n",
        "  angle_rads[:, 0::2] = np.sin(angle_rads[:, 0::2])\n",
        "\n",
        "  angle_rads[:, 1::2] = np.cos(angle_rads[:, 1::2])\n",
        "\n",
        "  pos_encoding = angle_rads[np.newaxis, ...]\n",
        "\n",
        "  return tf.cast(pos_encoding, dtype=tf.float32)"
      ],
      "metadata": {
        "id": "_QVnOc8veI0G"
      },
      "execution_count": null,
      "outputs": []
    },
    {
      "cell_type": "markdown",
      "source": [
        "# Masking"
      ],
      "metadata": {
        "id": "1v7p7T4kf8C4"
      }
    },
    {
      "cell_type": "code",
      "source": [
        "def create_padding_mask(sequence):\n",
        "  sequence = tf.cast(tf.math.not_equal(sequence, 0), tf.float32)\n",
        "  mask = sequence[:, tf.newaxis, tf.newaxis, :]\n",
        "  return mask"
      ],
      "metadata": {
        "id": "Dpp-PYzioCt2"
      },
      "execution_count": null,
      "outputs": []
    },
    {
      "cell_type": "code",
      "source": [
        "def create_look_ahead_mask(size):\n",
        "    mask = tf.linalg.band_part(tf.ones((size, size)), -1, 0)\n",
        "    return mask"
      ],
      "metadata": {
        "id": "GRlvxZNJnzaI"
      },
      "execution_count": null,
      "outputs": []
    },
    {
      "cell_type": "markdown",
      "source": [
        "# Transformer FeedForward"
      ],
      "metadata": {
        "id": "gS3pY3IQNHsi"
      }
    },
    {
      "cell_type": "code",
      "source": [
        "class TransformerFeedForward(keras.Model):\n",
        "  def __init__(self, d_feedforward, d_model):\n",
        "    super().__init__()\n",
        "\n",
        "    self.model = Sequential([\n",
        "                             Dense(d_feedforward, activation=\"relu\"),\n",
        "                             Dense(d_model)\n",
        "\n",
        "    ])\n",
        "  \n",
        "  def call(self, inputs):\n",
        "    return self.model.call(inputs)"
      ],
      "metadata": {
        "id": "KHV-vDBtNL2s"
      },
      "execution_count": null,
      "outputs": []
    },
    {
      "cell_type": "markdown",
      "source": [
        "# Encoder Block"
      ],
      "metadata": {
        "id": "XpDvgLz8LE2_"
      }
    },
    {
      "cell_type": "code",
      "source": [
        "class EncoderBlock(Layer):\n",
        "  def __init__(self, d_model, number_heads, d_feedforward):\n",
        "    super().__init__()\n",
        "\n",
        "    self.multi_head_attention = MultiHeadAttention(num_heads=number_heads, key_dim=d_model)\n",
        "    self.feedforward = TransformerFeedForward(d_feedforward=d_feedforward, d_model=d_model)\n",
        "\n",
        "    self.normal_1 = LayerNormalization(epsilon=1e-6)\n",
        "    self.normal_2 = LayerNormalization(epsilon=1e-6)\n",
        "\n",
        "    self.dropout_1 = Dropout(rate=0.1)\n",
        "    self.dropout_2 = Dropout(rate=0.1)\n",
        "\n",
        "  def call(self, x, mask, training):\n",
        "    attention_output = self.multi_head_attention(x, x, x, mask)\n",
        "    dropout_1_output = self.dropout_1(attention_output, training=training)\n",
        "    normal_output = self.normal_1(dropout_1_output + x)\n",
        "\n",
        "    feedforward_output = self.feedforward(normal_output)\n",
        "    dropout_2_output = self.dropout_2(feedforward_output)\n",
        "    output = self.normal_2(dropout_2_output + normal_output) \n",
        "\n",
        "    return output"
      ],
      "metadata": {
        "id": "7z0eecFKDW8o"
      },
      "execution_count": null,
      "outputs": []
    },
    {
      "cell_type": "markdown",
      "source": [
        "# Decoder Block"
      ],
      "metadata": {
        "id": "MQuKbs7kRbAl"
      }
    },
    {
      "cell_type": "code",
      "source": [
        "class DecoderBlock(Layer):\n",
        "  def __init__(self, number_heads, d_feedforward, d_model):\n",
        "    super().__init__()\n",
        "    self.multi_head_attention_1 = MultiHeadAttention(num_heads=number_heads, key_dim=d_model)\n",
        "    self.multi_head_attention_2 = MultiHeadAttention(num_heads=number_heads, key_dim=d_model)\n",
        "    \n",
        "    self.feedforward = TransformerFeedForward(d_feedforward=d_feedforward, d_model=d_model)\n",
        "\n",
        "    self.normal_1 = LayerNormalization(epsilon=1e-6)\n",
        "    self.normal_2 = LayerNormalization(epsilon=1e-6)\n",
        "    self.normal_3 = LayerNormalization(epsilon=1e-6)\n",
        "\n",
        "    self.dropout_1 = Dropout(rate=0.1)\n",
        "    self.dropout_2 = Dropout(rate=0.1)    \n",
        "    self.dropout_3 = Dropout(rate=0.1)\n",
        "\n",
        "  def call(self, x, encoder_output, look_ahead_mask, padding_mask, training):    \n",
        "    attention_output_1, attention_weights_1 = self.multi_head_attention_1(\n",
        "        x, x, x, look_ahead_mask, return_attention_scores=True)\n",
        "\n",
        "    dropout_1_output = self.dropout_1(attention_output_1, training=training)\n",
        "    normal_1_output = self.normal_1(dropout_1_output + x)\n",
        "\n",
        "    attention_2_output, attention_weights_2 = self.multi_head_attention_2(\n",
        "        key=encoder_output, value=encoder_output, query=normal_1_output, attention_mask=padding_mask, return_attention_scores=True)\n",
        "    \n",
        "    dropout_2_output = self.dropout_2(attention_2_output, training=training)\n",
        "    normal_2_output = self.normal_2(dropout_2_output + normal_1_output)\n",
        "    \n",
        "    feedforward_output = self.feedforward(normal_2_output)\n",
        "    dropout_3_output = self.dropout_3(feedforward_output, training=training)\n",
        "    normal_3_output = self.normal_3(dropout_3_output + normal_2_output)\n",
        "\n",
        "    return normal_3_output, attention_weights_1, attention_weights_2"
      ],
      "metadata": {
        "id": "1B5daDzvRb0G"
      },
      "execution_count": null,
      "outputs": []
    },
    {
      "cell_type": "markdown",
      "source": [
        "# Encoder"
      ],
      "metadata": {
        "id": "lHLbw92Z-39h"
      }
    },
    {
      "cell_type": "code",
      "source": [
        "class Encoder(Layer):\n",
        "  def __init__(self, number_blocks, d_feedforward, d_model, source_vocab_size,\n",
        "               number_heads):\n",
        "    \n",
        "    super().__init__()\n",
        "    self.embedding = Embedding(source_vocab_size, d_model)\n",
        "    self.number_blocks = number_blocks\n",
        "    self.d_model = d_model\n",
        "\n",
        "    self.pos_encoding = positional_encoding(MAX_LENGTH, self.d_model)\n",
        "    self.dropout = Dropout(rate=0.1)\n",
        "\n",
        "    self.encoder_blocks = []\n",
        "    for _ in range(number_blocks):\n",
        "      self.encoder_blocks.append(EncoderBlock(d_model=d_model, number_heads=number_heads, d_feedforward=d_feedforward))\n",
        "\n",
        "  def call(self, x, mask, training):\n",
        "    sequence_length = tf.shape(x)[1]\n",
        "    x = self.embedding(x)\n",
        "    x *= tf.math.sqrt(tf.cast(self.d_model, tf.float32))\n",
        "\n",
        "    x += self.pos_encoding[:, :sequence_length, :]\n",
        "    x = self.dropout(x, training=training)\n",
        "\n",
        "    for i in range(self.number_blocks):\n",
        "      x = self.encoder_blocks[i](x, mask, training)\n",
        "\n",
        "    return x "
      ],
      "metadata": {
        "id": "fq4n4Cdx-8OU"
      },
      "execution_count": null,
      "outputs": []
    },
    {
      "cell_type": "markdown",
      "source": [
        "# Decoder"
      ],
      "metadata": {
        "id": "4wQHaQXw-64q"
      }
    },
    {
      "cell_type": "code",
      "source": [
        "class Decoder(Layer):\n",
        "  def __init__(self, number_blocks, d_feedforward, d_model, number_heads,\n",
        "               target_vocab_size):\n",
        "    \n",
        "    super().__init__()\n",
        "    self.embedding = Embedding(target_vocab_size, d_model)\n",
        "    self.number_blocks = number_blocks\n",
        "    self.d_model = d_model\n",
        "\n",
        "    self.pos_encoding = positional_encoding(MAX_LENGTH, d_model)\n",
        "    self.dropout = Dropout(rate=0.1)\n",
        "\n",
        "    self.decoder_blocks = []\n",
        "    for _ in range(number_blocks):\n",
        "      self.decoder_blocks.append(DecoderBlock(d_model=d_model,\n",
        "                                              number_heads=number_heads,\n",
        "                                              d_feedforward=d_feedforward))\n",
        "\n",
        "  def call(self, x, encoder_output, look_ahead_mask, padding_mask, training):\n",
        "    sequence_length = tf.shape(x)[1]\n",
        "    attention_weights = []\n",
        "\n",
        "    x = self.embedding(x)\n",
        "    x *= tf.math.sqrt(tf.cast(self.d_model, tf.float32))\n",
        "\n",
        "    x += self.pos_encoding[:, :sequence_length, :]\n",
        "    x = self.dropout(x)\n",
        "\n",
        "    for i in range(self.number_blocks):\n",
        "      x, new_attention_weights_1, new_attention_weights_2 =\\\n",
        "       self.decoder_blocks[i](x=x, encoder_output=encoder_output,\n",
        "                              look_ahead_mask=look_ahead_mask,\n",
        "                              padding_mask=padding_mask, training=training)\n",
        "\n",
        "      attention_weights.append({1:new_attention_weights_1,\n",
        "                                2:new_attention_weights_2})\n",
        "\n",
        "    return x, attention_weights      "
      ],
      "metadata": {
        "id": "yRw8km7WCc0L"
      },
      "execution_count": null,
      "outputs": []
    },
    {
      "cell_type": "markdown",
      "source": [
        "# Transformer"
      ],
      "metadata": {
        "id": "SurL2AVE-Czp"
      }
    },
    {
      "cell_type": "code",
      "source": [
        "class Transformer(keras.Model):\n",
        "  def __init__(self, number_blocks, number_heads,\n",
        "               d_feedforward, d_model, source_vocab_size,\n",
        "               target_vocab_size):\n",
        "    super().__init__()\n",
        "\n",
        "    self.encoder = Encoder(number_blocks=number_blocks,\n",
        "                           d_feedforward=d_feedforward, d_model=d_model,\n",
        "                           source_vocab_size=source_vocab_size,\n",
        "                           number_heads=number_heads)\n",
        "\n",
        "    self.decoder = Decoder(number_blocks=number_blocks,\n",
        "                           d_feedforward=d_feedforward, d_model=d_model,\n",
        "                           target_vocab_size=target_vocab_size,\n",
        "                           number_heads=number_heads)\n",
        "\n",
        "    self.last_layer = Dense(target_vocab_size)\n",
        "\n",
        "  def create_masks(self, pt_inputs, en_inputs):\n",
        "    padding_mask = create_padding_mask(pt_inputs)\n",
        "    \n",
        "    look_ahead_mask = create_look_ahead_mask(tf.shape(en_inputs)[1])\n",
        "    dec_target_padding_mask = create_padding_mask(en_inputs)\n",
        "    look_ahead_mask = tf.minimum(dec_target_padding_mask, look_ahead_mask)\n",
        "    \n",
        "    return padding_mask, look_ahead_mask\n",
        "  \n",
        "  def call(self, inputs, training):\n",
        "    pt_inputs, en_inputs = inputs\n",
        "\n",
        "    padding_mask, look_ahead_mask = self.create_masks(pt_inputs, en_inputs)\n",
        "\n",
        "    encoder_output = self.encoder(pt_inputs, padding_mask, training)\n",
        "\n",
        "    decoder_output, attention_weights = self.decoder(x=en_inputs,\n",
        "                                                     encoder_output=encoder_output,\n",
        "                                                     look_ahead_mask=look_ahead_mask,\n",
        "                                                     padding_mask=padding_mask, training=training)\n",
        "\n",
        "    final_output = self.last_layer(decoder_output)\n",
        "\n",
        "    return final_output, attention_weights"
      ],
      "metadata": {
        "id": "H6-6TJjP-Acj"
      },
      "execution_count": null,
      "outputs": []
    },
    {
      "cell_type": "markdown",
      "source": [
        "# Train"
      ],
      "metadata": {
        "id": "RydZEd08quDr"
      }
    },
    {
      "cell_type": "code",
      "source": [
        "number_blocks = 4\n",
        "d_model = 128\n",
        "d_feedforward = 512\n",
        "number_heads = 8\n",
        "number_epochs = 2"
      ],
      "metadata": {
        "id": "3GFJejbtqP1Y"
      },
      "execution_count": null,
      "outputs": []
    },
    {
      "cell_type": "code",
      "source": [
        "class CustomSchedule(tf.keras.optimizers.schedules.LearningRateSchedule):\n",
        "  def __init__(self, d_model, warmup_steps=4000):\n",
        "    super(CustomSchedule, self).__init__()\n",
        "\n",
        "    self.d_model = d_model\n",
        "    self.d_model = tf.cast(self.d_model, tf.float32)\n",
        "\n",
        "    self.warmup_steps = warmup_steps\n",
        "\n",
        "  def __call__(self, step):\n",
        "    arg1 = tf.math.rsqrt(step)\n",
        "    arg2 = step * (self.warmup_steps ** -1.5)\n",
        "\n",
        "    return tf.math.rsqrt(self.d_model) * tf.math.minimum(arg1, arg2)"
      ],
      "metadata": {
        "id": "qbl67v7VrMUr"
      },
      "execution_count": null,
      "outputs": []
    },
    {
      "cell_type": "code",
      "source": [
        "learning_rate = CustomSchedule(d_model)\n",
        "\n",
        "optimizer = tf.keras.optimizers.Adam(learning_rate, beta_1=0.9, beta_2=0.98,\n",
        "                                     epsilon=1e-9)\n",
        "\n",
        "loss_object = tf.keras.losses.SparseCategoricalCrossentropy(\n",
        "    from_logits=True, reduction='none')"
      ],
      "metadata": {
        "id": "PrHpz4aErTq8"
      },
      "execution_count": null,
      "outputs": []
    },
    {
      "cell_type": "code",
      "source": [
        "def loss_function(real, pred):\n",
        "  mask = tf.math.logical_not(tf.math.equal(real, 0))\n",
        "  loss_ = loss_object(real, pred)\n",
        "\n",
        "  mask = tf.cast(mask, dtype=loss_.dtype)\n",
        "  loss_ *= mask\n",
        "\n",
        "  return tf.reduce_sum(loss_)/tf.reduce_sum(mask)\n",
        "\n",
        "\n",
        "def accuracy_function(real, pred):\n",
        "  accuracies = tf.equal(real, tf.argmax(pred, axis=2))\n",
        "\n",
        "  mask = tf.math.logical_not(tf.math.equal(real, 0))\n",
        "  accuracies = tf.math.logical_and(mask, accuracies)\n",
        "\n",
        "  accuracies = tf.cast(accuracies, dtype=tf.float32)\n",
        "  mask = tf.cast(mask, dtype=tf.float32)\n",
        "  return tf.reduce_sum(accuracies)/tf.reduce_sum(mask)"
      ],
      "metadata": {
        "id": "VUdF7wmrreWt"
      },
      "execution_count": null,
      "outputs": []
    },
    {
      "cell_type": "code",
      "source": [
        "train_loss = tf.keras.metrics.Mean(name='train_loss')\n",
        "train_accuracy = tf.keras.metrics.Mean(name='train_accuracy')"
      ],
      "metadata": {
        "id": "Q0E3ahclrfvI"
      },
      "execution_count": null,
      "outputs": []
    },
    {
      "cell_type": "code",
      "source": [
        "transformer = Transformer(number_blocks=number_blocks,\n",
        "                          number_heads=number_heads,\n",
        "                          d_feedforward=d_feedforward, d_model=d_model,\n",
        "                          source_vocab_size=pt_tokenizer.get_vocab_size().numpy(),\n",
        "                          target_vocab_size=en_tokenizer.get_vocab_size().numpy())"
      ],
      "metadata": {
        "id": "rGrid86Trhp5"
      },
      "execution_count": null,
      "outputs": []
    },
    {
      "cell_type": "code",
      "source": [
        "train_step_signature = [\n",
        "    tf.TensorSpec(shape=(None, None), dtype=tf.int64),\n",
        "    tf.TensorSpec(shape=(None, None), dtype=tf.int64),\n",
        "]\n",
        "\n",
        "@tf.function(input_signature=train_step_signature)\n",
        "def train_step(pt_inputs, en_inputs):\n",
        "\n",
        "  en_inputs_input = en_inputs[:, :-1]\n",
        "  en_inputs_real = en_inputs[:, 1:]\n",
        "\n",
        "  with tf.GradientTape() as tape:\n",
        "    predictions = transformer([pt_inputs, en_inputs_input], training=True)[0]\n",
        "    loss = loss_function(en_inputs_real, predictions)\n",
        "\n",
        "  gradients = tape.gradient(loss, transformer.trainable_variables)\n",
        "  optimizer.apply_gradients(zip(gradients, transformer.trainable_variables))\n",
        "\n",
        "  train_loss(loss)\n",
        "  train_accuracy(accuracy_function(en_inputs_real, predictions))"
      ],
      "metadata": {
        "id": "pxvnM_cFuSlp"
      },
      "execution_count": null,
      "outputs": []
    },
    {
      "cell_type": "code",
      "source": [
        "for epoch in range(number_epochs):\n",
        "\n",
        "  train_loss.reset_states()\n",
        "  train_accuracy.reset_states()\n",
        "\n",
        "  for (batch, (pt_inputs, en_inputs)) in enumerate(train_dataset):\n",
        "    train_step(pt_inputs, en_inputs)\n",
        "\n",
        "    if batch % 100 == 0:\n",
        "      accuracy_percent = train_accuracy.result().numpy()*100\n",
        "      loss_result = train_loss.result().numpy()\n",
        "      print(f\"Epoch {epoch+1} Batch {batch} -> Loss = {loss_result:.2f}, Accuracy {round(accuracy_percent,2)}%\")"
      ],
      "metadata": {
        "colab": {
          "base_uri": "https://localhost:8080/"
        },
        "id": "10bKnpxasPVm",
        "outputId": "dec1221b-7418-4d59-9c71-98ae0ef12290"
      },
      "execution_count": null,
      "outputs": [
        {
          "output_type": "stream",
          "name": "stdout",
          "text": [
            "Epoch 1 Batch 0 -> Loss = 8.85, Accuracy 0.0%\n",
            "Epoch 1 Batch 100 -> Loss = 8.66, Accuracy 2.73%\n",
            "Epoch 1 Batch 200 -> Loss = 8.40, Accuracy 4.04%\n",
            "Epoch 1 Batch 300 -> Loss = 8.03, Accuracy 5.61%\n",
            "Epoch 1 Batch 400 -> Loss = 7.64, Accuracy 6.63%\n",
            "Epoch 1 Batch 500 -> Loss = 7.32, Accuracy 8.43%\n",
            "Epoch 1 Batch 600 -> Loss = 7.05, Accuracy 10.17%\n",
            "Epoch 1 Batch 700 -> Loss = 6.81, Accuracy 11.68%\n",
            "Epoch 2 Batch 0 -> Loss = 5.28, Accuracy 22.41%\n",
            "Epoch 2 Batch 100 -> Loss = 5.16, Accuracy 23.46%\n",
            "Epoch 2 Batch 200 -> Loss = 5.09, Accuracy 24.39%\n",
            "Epoch 2 Batch 300 -> Loss = 5.01, Accuracy 25.31%\n",
            "Epoch 2 Batch 400 -> Loss = 4.93, Accuracy 26.07%\n",
            "Epoch 2 Batch 500 -> Loss = 4.86, Accuracy 26.77%\n",
            "Epoch 2 Batch 600 -> Loss = 4.80, Accuracy 27.46%\n",
            "Epoch 2 Batch 700 -> Loss = 4.74, Accuracy 28.09%\n"
          ]
        }
      ]
    },
    {
      "cell_type": "markdown",
      "source": [
        "# Translator"
      ],
      "metadata": {
        "id": "1l6M3rLRGw3j"
      }
    },
    {
      "cell_type": "code",
      "source": [
        "class Translator(keras.Model):\n",
        "  def __init__(self, transformer, en_tokenizer, pt_tokenizer):\n",
        "    super().__init__()\n",
        "\n",
        "    self.transformer = transformer\n",
        "    self.en_tokenizer = en_tokenizer\n",
        "    self.pt_tokenizer = pt_tokenizer\n",
        "\n",
        "  def translate(self, sentence):\n",
        "    pt_tokens = self.pt_tokenizer.tokenize(tf.expand_dims(sentence, axis=0)).to_tensor()\n",
        "\n",
        "    start_token, end_token = self.en_tokenizer.tokenize([''])[0]\n",
        "    start_token = start_token[tf.newaxis]\n",
        "    end_token = end_token[tf.newaxis]\n",
        "\n",
        "    en_tokens = tf.TensorArray(dtype=tf.int64, size=0, dynamic_size=True)\n",
        "    en_tokens = en_tokens.write(0, start_token)\n",
        "\n",
        "    for i in range(MAX_LENGTH):\n",
        "      en_tokens_transpose = tf.transpose(en_tokens.stack())\n",
        "\n",
        "      predictions, _ = self.transformer([pt_tokens, en_tokens_transpose], training=False)\n",
        "\n",
        "      predictions = predictions[:, -1:, :]\n",
        "\n",
        "      predicted_id = tf.argmax(predictions, axis=-1)\n",
        "\n",
        "      en_tokens = en_tokens.write(i+1, predicted_id[0])\n",
        "\n",
        "      if predicted_id == end_token:\n",
        "        break\n",
        "\n",
        "    en_tokens_transpose = tf.transpose(en_tokens.stack())\n",
        "\n",
        "    text = en_tokenizer.detokenize(en_tokens_transpose)[0]\n",
        "\n",
        "    tokens = en_tokenizer.lookup(en_tokens_transpose)[0]\n",
        "\n",
        "    attention_weights = self.transformer([pt_tokens, en_tokens_transpose[:,:-1]], training=False)[1]\n",
        "\n",
        "    return text, tokens, attention_weights"
      ],
      "metadata": {
        "id": "lv2XTQUq7ny3"
      },
      "execution_count": null,
      "outputs": []
    },
    {
      "cell_type": "code",
      "source": [
        "translator = Translator(transformer=transformer,\n",
        "                        en_tokenizer=en_tokenizer, pt_tokenizer=pt_tokenizer)"
      ],
      "metadata": {
        "id": "L5k9HVm8Tl9K"
      },
      "execution_count": null,
      "outputs": []
    },
    {
      "cell_type": "markdown",
      "source": [
        "# Test Examples"
      ],
      "metadata": {
        "id": "COBscKNNRuPI"
      }
    },
    {
      "cell_type": "code",
      "source": [
        "for test_example in test_dataset.take(10):\n",
        "  pt_text = test_example[0].numpy()\n",
        "  en_text = test_example[1].numpy()\n",
        "  en_predicted_text = translator.translate(pt_text)[0]\n",
        "\n",
        "  print(f\"Portuguese Input Text  = {pt_text}\")\n",
        "  print(f\"English Real Text      = {en_text}\")\n",
        "  print(f\"English Predicted Text = {en_predicted_text.numpy()}\\n\")\n"
      ],
      "metadata": {
        "id": "NYm1jWcrRwCi",
        "colab": {
          "base_uri": "https://localhost:8080/"
        },
        "outputId": "a1bd08b2-f22e-411c-bf44-a95fa86595b9"
      },
      "execution_count": null,
      "outputs": [
        {
          "output_type": "stream",
          "name": "stdout",
          "text": [
            "Portuguese Input Text  = b'depois , podem fazer-se e testar-se previs\\xc3\\xb5es .'\n",
            "English Real Text      = b'then , predictions can be made and tested .'\n",
            "English Predicted Text = b'and you can do it and be a lot of it .'\n",
            "\n",
            "\n",
            "Portuguese Input Text  = b'for\\xc3\\xa7ou a parar m\\xc3\\xbaltiplos laborat\\xc3\\xb3rios que ofereciam testes brca .'\n",
            "English Real Text      = b'it had forced multiple labs that were offering brca testing to stop .'\n",
            "English Predicted Text = b'the other people have been able to be able to be a lot of the tra'\n",
            "\n",
            "\n",
            "Portuguese Input Text  = b'as formigas s\\xc3\\xa3o um exemplo cl\\xc3\\xa1ssico ; as oper\\xc3\\xa1rias trabalham para as rainhas e vice-versa .'\n",
            "English Real Text      = b'ants are a classic example ; workers work for queens and queens work for workers .'\n",
            "English Predicted Text = b'the srops are a new years of the other - spppppp .'\n",
            "\n",
            "\n",
            "Portuguese Input Text  = b'uma em cada cem crian\\xc3\\xa7as no mundo nascem com uma doen\\xc3\\xa7a card\\xc3\\xadaca .'\n",
            "English Real Text      = b'one of every hundred children born worldwide has some kind of heart disease .'\n",
            "English Predicted Text = b'a world in the world in the world in the world with a new world'\n",
            "\n",
            "\n",
            "Portuguese Input Text  = b'neste momento da sua vida , ela est\\xc3\\xa1 a sofrer de sida no seu expoente m\\xc3\\xa1ximo e tinha pneumonia .'\n",
            "English Real Text      = b\"at this point in her life , she 's suffering with full-blown aids and had pneumonia .\"\n",
            "English Predicted Text = b'in this world of the world , the first is the sraproppppp .'\n",
            "\n",
            "\n",
            "Portuguese Input Text  = b'onde est\\xc3\\xa3o as redes econ\\xc3\\xb3micas ?'\n",
            "English Real Text      = b'where are economic networks ?'\n",
            "English Predicted Text = b'what are the other people ?'\n",
            "\n",
            "\n",
            "Portuguese Input Text  = b'( aplausos )'\n",
            "English Real Text      = b'( applause )'\n",
            "English Predicted Text = b'( applause )'\n",
            "\n",
            "\n",
            "Portuguese Input Text  = b'eu usei os contentores de transporte , e tamb\\xc3\\xa9m os alunos ajudaram-nos a fazer toda a mob\\xc3\\xadlia dos edif\\xc3\\xadcios , para torn\\xc3\\xa1-los confort\\xc3\\xa1veis\\xe2\\x80\\x8b\\xe2\\x80\\x8b , dentro do or\\xc3\\xa7amento do governo , mas tamb\\xc3\\xa9m com a mesma a \\xc3\\xa1rea da casa , mas muito mais confort\\xc3\\xa1vel .'\n",
            "English Real Text      = b'i used the shipping container and also the students helped us to make all the building furniture to make them comfortable , within the budget of the government but also the area of the house is exactly the same , but much more comfortable .'\n",
            "English Predicted Text = b\"i ' m going to the same , and the same , and the other people have to be able to be the world , and the world , but the world , but the world , but it ' s the world , but it has been able to be able to\"\n",
            "\n",
            "\n",
            "Portuguese Input Text  = b'e , no entanto , a ironia \\xc3\\xa9 que a \\xc3\\xbanica maneira de podermos fazer qualquer coisa nova \\xc3\\xa9 dar um passo nessa dire\\xc3\\xa7\\xc3\\xa3o .'\n",
            "English Real Text      = b'and yet , the irony is , the only way we can ever do anything new is to step into that space .'\n",
            "English Predicted Text = b'and in the world , the world is the way to do that we do is a lot of the way .'\n",
            "\n",
            "\n",
            "Portuguese Input Text  = b'a luz nunca desaparece .'\n",
            "English Real Text      = b'the light never goes out .'\n",
            "English Predicted Text = b'the first was going to be .'\n",
            "\n",
            "\n"
          ]
        }
      ]
    },
    {
      "cell_type": "code",
      "source": [
        "# input_text = \"os meus vizinhos ouviram sobre esta ideia.\"\n",
        "input_text = \"vou então muito rapidamente partilhar convosco algumas histórias de algumas coisas mágicas que aconteceram.\"\n",
        "# input_text = \"este é um problema que temos que resolver.\"\n",
        "\n",
        "text, tokens, attention_weight = translator.translate(tf.constant(input_text))\n",
        "\n",
        "print(text.numpy())"
      ],
      "metadata": {
        "colab": {
          "base_uri": "https://localhost:8080/"
        },
        "id": "oftWHfBGUpH5",
        "outputId": "bc592f6c-77bb-44a8-dfa2-f3280cc47165"
      },
      "execution_count": null,
      "outputs": [
        {
          "output_type": "stream",
          "name": "stdout",
          "text": [
            "b\"i ' m going to see a lot of you can be a lot of people that we ' re\"\n"
          ]
        }
      ]
    },
    {
      "cell_type": "markdown",
      "source": [
        "# Attention Weights"
      ],
      "metadata": {
        "id": "TRxCwC6-Bkd9"
      }
    },
    {
      "cell_type": "code",
      "source": [
        "attention_weight = tf.squeeze(attention_weight[-1][2]).numpy()"
      ],
      "metadata": {
        "id": "NF6zDfVomHiq"
      },
      "execution_count": null,
      "outputs": []
    },
    {
      "cell_type": "code",
      "source": [
        "attention_weight.shape[0]"
      ],
      "metadata": {
        "id": "ZaCDkYuxA6Ls"
      },
      "execution_count": null,
      "outputs": []
    },
    {
      "cell_type": "code",
      "source": [
        "attention_weight_heads = []\n",
        "\n",
        "for i in range(attention_weight.shape[0]):\n",
        "  attention_weight_heads.append(attention_weight[i])"
      ],
      "metadata": {
        "id": "Ikd7R7YkmxGp"
      },
      "execution_count": null,
      "outputs": []
    },
    {
      "cell_type": "code",
      "source": [
        "fig, ax = plt.subplots(4, 2)\n",
        "pt_tokens = pt_tokenizer.tokenize([input_text]).numpy()[0]\n",
        "pt_tokens = pt_tokenizer.lookup([pt_tokens]).numpy()[0]\n",
        "\n",
        "en_tokens = en_tokenizer.tokenize([text]).numpy()[0]\n",
        "en_tokens = en_tokenizer.lookup([en_tokens]).numpy()[0]\n",
        "\n",
        "for i in range(8):\n",
        "  ax[i//2][i%2].matshow(attention_weight_heads[i], cmap=\"YlOrBr\")\n",
        "  ax[i//2][i%2].set_xticks(range(len(pt_tokens)))\n",
        "  ax[i//2][i%2].set_xticklabels(pt_tokens, rotation=90)\n",
        "\n",
        "  ax[i//2][i%2].set_yticks(range(len(en_tokens)))\n",
        "  ax[i//2][i%2].set_yticklabels(en_tokens)\n",
        "\n",
        "  \n",
        "\n",
        "fig.set_size_inches((12, 25))\n",
        "plt.show()"
      ],
      "metadata": {
        "id": "k1N4QdpFCBR-"
      },
      "execution_count": null,
      "outputs": []
    },
    {
      "cell_type": "code",
      "source": [
        ""
      ],
      "metadata": {
        "id": "ZgWaeX3qB67J"
      },
      "execution_count": null,
      "outputs": []
    }
  ]
}